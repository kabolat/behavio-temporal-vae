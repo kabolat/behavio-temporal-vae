{
 "cells": [
  {
   "cell_type": "code",
   "execution_count": 1,
   "metadata": {},
   "outputs": [],
   "source": [
    "import os, sys\n",
    "os.chdir(os.path.abspath('..'))"
   ]
  },
  {
   "cell_type": "code",
   "execution_count": 2,
   "metadata": {},
   "outputs": [],
   "source": [
    "import json, pickle\n",
    "import argparse\n",
    "\n",
    "import numpy as np\n",
    "import pandas as pd\n",
    "import torch\n",
    "import datetime\n",
    "import matplotlib.pyplot as plt\n",
    "import seaborn as sns\n",
    "sns.set_theme(style=\"darkgrid\")\n",
    "from torch.utils.tensorboard import SummaryWriter"
   ]
  },
  {
   "cell_type": "code",
   "execution_count": 3,
   "metadata": {},
   "outputs": [],
   "source": [
    "%load_ext autoreload\n",
    "%autoreload 2\n",
    "\n",
    "import src.utils as utils\n",
    "import src.preprocess_lib as preprocess_lib"
   ]
  },
  {
   "cell_type": "code",
   "execution_count": 4,
   "metadata": {},
   "outputs": [],
   "source": [
    "dataset_dir = \"data\"\n",
    "dataset_name = \"goi4_dp_full_Gipuzkoa\""
   ]
  },
  {
   "cell_type": "code",
   "execution_count": 5,
   "metadata": {},
   "outputs": [
    {
     "name": "stdout",
     "output_type": "stream",
     "text": [
      "Dataset: goi4_dp_full_Gipuzkoa\n",
      "Loaded 2522880 consumption profiles from 365 dates and 6912 users.\n",
      "Removing 15 users with all-zero consumption profiles\n",
      "Removing 67 users with any-negative consumption profiles\n"
     ]
    }
   ],
   "source": [
    "X, _ = preprocess_lib.get_full_data(dataset_dir, dataset_name, subsample_rate_user=10)"
   ]
  },
  {
   "cell_type": "code",
   "execution_count": 6,
   "metadata": {},
   "outputs": [],
   "source": [
    "test_ratio = 0.2\n",
    "num_test_days = int(X.shape[1] * test_ratio)\n",
    "num_train_days = X.shape[1] - num_test_days\n",
    "\n",
    "X_train_val = X[:, :-num_test_days]\n",
    "X_test = X[:, -num_test_days:]"
   ]
  },
  {
   "cell_type": "code",
   "execution_count": 7,
   "metadata": {},
   "outputs": [],
   "source": [
    "num_users = X.shape[0]\n",
    "X_train_val = X_train_val.reshape(num_users, -1)\n",
    "user_ids = np.arange(num_users)"
   ]
  },
  {
   "cell_type": "code",
   "execution_count": 8,
   "metadata": {},
   "outputs": [],
   "source": [
    "# Function to split time series into chunks for each user\n",
    "def create_chunks_per_user(data, user_ids, seq_len, stride):\n",
    "    \"\"\"\n",
    "    Args:\n",
    "        data (numpy.ndarray): Input data of shape (U, T).\n",
    "        user_ids (numpy.ndarray): Array of user IDs of shape (U,).\n",
    "        seq_len (int): Length of each sequence chunk.\n",
    "        stride (int): Number of steps to move the window for the next chunk.\n",
    "    Returns:\n",
    "        X_chunks (numpy.ndarray): Array of chunks of shape (N, seq_len).\n",
    "        y_chunks (numpy.ndarray): Array of labels of shape (N, seq_len).\n",
    "    \"\"\"\n",
    "    X_chunks = []\n",
    "    y_chunks = []\n",
    "    U, T = data.shape\n",
    "    for i in range(U):\n",
    "        user_data = data[i]\n",
    "        user_id = user_ids[i]\n",
    "        # Generate chunks for this user\n",
    "        for j in range(0, T - seq_len + 1, stride):\n",
    "            chunk = user_data[j:j+seq_len]\n",
    "            label = np.full(seq_len, user_id)\n",
    "            X_chunks.append(chunk)\n",
    "            y_chunks.append(label)\n",
    "    X_chunks = np.array(X_chunks)\n",
    "    y_chunks = np.array(y_chunks)\n",
    "    return X_chunks, y_chunks"
   ]
  },
  {
   "cell_type": "code",
   "execution_count": 30,
   "metadata": {},
   "outputs": [],
   "source": [
    "seq_len = 24*7*1\n",
    "stride = 24*1*1"
   ]
  },
  {
   "cell_type": "code",
   "execution_count": 31,
   "metadata": {},
   "outputs": [],
   "source": [
    "X_chunks, y_chunks = create_chunks_per_user(X_train_val, user_ids, seq_len=seq_len, stride=stride)"
   ]
  },
  {
   "cell_type": "code",
   "execution_count": 32,
   "metadata": {},
   "outputs": [],
   "source": [
    "# Custom Dataset class for handling the data chunks\n",
    "class ElectricityDataset(torch.utils.data.Dataset):\n",
    "    def __init__(self, X, y):\n",
    "        \"\"\"\n",
    "        Args:\n",
    "            X (numpy.ndarray): Input features of shape (N, seq_len).\n",
    "            y (numpy.ndarray): Labels of shape (N, seq_len).\n",
    "        \"\"\"\n",
    "        self.X = X\n",
    "        self.y = y\n",
    "            \n",
    "    def __len__(self):\n",
    "        return len(self.X)\n",
    "            \n",
    "    def __getitem__(self, idx):\n",
    "        x = self.X[idx]\n",
    "        x = torch.tensor(x, dtype=torch.float32).unsqueeze(1)  # Shape: (seq_len, 1)\n",
    "        y = self.y[idx]\n",
    "        y = torch.tensor(y, dtype=torch.long)  # Shape: (seq_len,)\n",
    "        return x, y\n",
    "\n",
    "# Define the LSTM-based classifier model\n",
    "class LSTMClassifier(torch.nn.Module):\n",
    "    def __init__(self, input_size, hidden_size, num_layers, num_classes):\n",
    "        super(LSTMClassifier, self).__init__()\n",
    "        self.lstm = torch.nn.LSTM(input_size=input_size, hidden_size=hidden_size,\n",
    "                            num_layers=num_layers, batch_first=True)\n",
    "        self.fc = torch.nn.Linear(hidden_size, num_classes)\n",
    "            \n",
    "    def forward(self, x):\n",
    "        # x: (batch_size, seq_len, input_size)\n",
    "        out, _ = self.lstm(x)\n",
    "        # Apply the fully connected layer at each time step\n",
    "        out = self.fc(out)  # Shape: (batch_size, seq_len, num_classes)\n",
    "        return out\n"
   ]
  },
  {
   "cell_type": "code",
   "execution_count": 33,
   "metadata": {},
   "outputs": [],
   "source": [
    "from sklearn.model_selection import train_test_split\n",
    "X_train, X_val, y_train, y_val = train_test_split(X_chunks, y_chunks, test_size=0.2, random_state=42, stratify=y_chunks[:, 0])"
   ]
  },
  {
   "cell_type": "code",
   "execution_count": 34,
   "metadata": {},
   "outputs": [],
   "source": [
    "nonzero_mean, nonzero_std = utils.zero_preserved_log_stats(X_train.reshape(-1)*1.0)"
   ]
  },
  {
   "cell_type": "code",
   "execution_count": 35,
   "metadata": {},
   "outputs": [],
   "source": [
    "X_train_normalized = utils.zero_preserved_log_normalize(X_train*1.0, nonzero_mean, nonzero_std, log_output=True)\n",
    "X_val_normalized = utils.zero_preserved_log_normalize(X_val*1.0, nonzero_mean, nonzero_std, log_output=True)"
   ]
  },
  {
   "cell_type": "code",
   "execution_count": 36,
   "metadata": {},
   "outputs": [],
   "source": [
    "train_dataset = ElectricityDataset(X_train_normalized, y_train)\n",
    "val_dataset = ElectricityDataset(X_val_normalized, y_val)"
   ]
  },
  {
   "cell_type": "code",
   "execution_count": 63,
   "metadata": {},
   "outputs": [],
   "source": [
    "batch_size = 32\n",
    "train_loader = torch.utils.data.DataLoader(train_dataset, batch_size=batch_size,\n",
    "                            shuffle=True, num_workers=1)\n",
    "val_loader = torch.utils.data.DataLoader(val_dataset, batch_size=batch_size,\n",
    "                        shuffle=False, num_workers=1)"
   ]
  },
  {
   "cell_type": "code",
   "execution_count": 64,
   "metadata": {},
   "outputs": [],
   "source": [
    "device = torch.device('cuda:1' if torch.cuda.is_available() else 'cpu')"
   ]
  },
  {
   "cell_type": "code",
   "execution_count": 65,
   "metadata": {},
   "outputs": [],
   "source": [
    "input_size = 1\n",
    "hidden_size = 512\n",
    "num_layers = 2\n",
    "num_epochs = 5\n",
    "learning_rate = 0.001"
   ]
  },
  {
   "cell_type": "code",
   "execution_count": 66,
   "metadata": {},
   "outputs": [],
   "source": [
    "model = LSTMClassifier(input_size, hidden_size, num_layers, num_users).to(device)\n",
    "criterion = torch.nn.CrossEntropyLoss()\n",
    "optimizer = torch.optim.Adam(model.parameters(), lr=learning_rate)"
   ]
  },
  {
   "cell_type": "code",
   "execution_count": 67,
   "metadata": {},
   "outputs": [
    {
     "name": "stdout",
     "output_type": "stream",
     "text": [
      "Epoch [1/5], Loss: 3.8249, Validation Accuracy: 44.30%\n",
      "Epoch [2/5], Loss: 1.6111, Validation Accuracy: 67.37%\n",
      "Epoch [3/5], Loss: 1.0786, Validation Accuracy: 73.93%\n",
      "Epoch [4/5], Loss: 0.8525, Validation Accuracy: 78.28%\n",
      "Epoch [5/5], Loss: 0.7296, Validation Accuracy: 80.83%\n"
     ]
    }
   ],
   "source": [
    "for epoch in range(num_epochs):\n",
    "    model.train()\n",
    "    total_loss = 0\n",
    "    for x_batch, y_batch in train_loader:\n",
    "        # Move tensors to the configured device\n",
    "        x_batch = x_batch.to(device)  # Shape: (batch_size, seq_len, 1)\n",
    "        y_batch = y_batch.to(device)  # Shape: (batch_size, seq_len)\n",
    "\n",
    "        # Forward pass\n",
    "        outputs = model(x_batch)  # Shape: (batch_size, seq_len, num_classes)\n",
    "\n",
    "        # Reshape outputs and labels for loss computation\n",
    "        outputs = outputs.view(-1, num_users)  # Shape: (batch_size * seq_len, num_classes)\n",
    "        y_batch = y_batch.view(-1)               # Shape: (batch_size * seq_len)\n",
    "\n",
    "        loss = criterion(outputs, y_batch)\n",
    "\n",
    "        # Backward and optimize\n",
    "        optimizer.zero_grad()\n",
    "        loss.backward()\n",
    "        optimizer.step()\n",
    "\n",
    "        total_loss += loss.item()\n",
    "\n",
    "    avg_loss = total_loss / len(train_loader)\n",
    "\n",
    "    # Validation\n",
    "    model.eval()\n",
    "    correct = 0\n",
    "    total = 0\n",
    "    with torch.no_grad():\n",
    "        for x_batch, y_batch in val_loader:\n",
    "            x_batch = x_batch.to(device)\n",
    "            y_batch = y_batch.to(device)\n",
    "\n",
    "            outputs = model(x_batch)\n",
    "            outputs = outputs.view(-1, num_users)\n",
    "            y_batch = y_batch.view(-1)\n",
    "\n",
    "            _, predicted = torch.max(outputs.data, 1)\n",
    "            total += y_batch.size(0)\n",
    "            correct += (predicted == y_batch).sum().item()\n",
    "    val_accuracy = 100 * correct / total\n",
    "\n",
    "    print(f'Epoch [{epoch+1}/{num_epochs}], Loss: {avg_loss:.4f}, Validation Accuracy: {val_accuracy:.2f}%')\n"
   ]
  },
  {
   "cell_type": "code",
   "execution_count": 68,
   "metadata": {},
   "outputs": [],
   "source": [
    "def test_accuracy_over_time_full_sequence(model, X, y, sequence_lengths, device):\n",
    "    \"\"\"\n",
    "    Test the model on full time series data without chunking and observe how accuracy improves over time.\n",
    "    \"\"\"\n",
    "    model.eval()\n",
    "    U, T = X.shape\n",
    "\n",
    "    losses, corrects = [], []\n",
    "    user_batch_size = 250\n",
    "    with torch.no_grad():\n",
    "        for i in range(0, U, user_batch_size):\n",
    "            if i + user_batch_size > U: user_batch_size = U - i\n",
    "            user_data = X[i:i+user_batch_size]\n",
    "            user_id = y[i:i+user_batch_size]\n",
    "            x = torch.tensor(user_data, dtype=torch.float32).unsqueeze(-1).to(device)\n",
    "            logits = model(x)\n",
    "            logits = logits[:, sequence_lengths-1, :]\n",
    "            logprobs = torch.nn.functional.log_softmax(logits, dim=-1)\n",
    "\n",
    "            y_true_tensor = torch.tensor(user_id, dtype=torch.long)[...,None,...].repeat_interleave(sequence_lengths.shape[0], dim=-1).to(device)\n",
    "\n",
    "            cross_entropy_loss = torch.nn.functional.nll_loss(logprobs.reshape(-1, U), y_true_tensor.reshape(-1), reduction=\"none\").reshape(user_batch_size, -1)\n",
    "            losses.append(cross_entropy_loss.tolist())\n",
    "            _, predicted = torch.max(logits.data, -1)\n",
    "            corrects.append((predicted == y_true_tensor).cpu())\n",
    "\n",
    "            print(f\"User-{i+1}, Loss: {cross_entropy_loss[-1][0]:.4f}, Correct: {corrects[-1][0][-1]}\")\n",
    "\n",
    "        accuracy = np.sum(np.concatenate(corrects), axis=0) / U\n",
    "    \n",
    "    return accuracy, np.concatenate(losses)"
   ]
  },
  {
   "cell_type": "code",
   "execution_count": 69,
   "metadata": {},
   "outputs": [],
   "source": [
    "sequence_lengths = np.arange(24, X.shape[-2]*X.shape[-1] + 1, 24 * 7)  # Every week"
   ]
  },
  {
   "cell_type": "code",
   "execution_count": 70,
   "metadata": {},
   "outputs": [
    {
     "name": "stdout",
     "output_type": "stream",
     "text": [
      "User-1, Loss: 0.0457, Correct: True\n",
      "User-251, Loss: 0.6382, Correct: True\n",
      "User-501, Loss: 2.0281, Correct: False\n"
     ]
    }
   ],
   "source": [
    "average_accuracy, individual_losses = test_accuracy_over_time_full_sequence(model, utils.zero_preserved_log_normalize(X.reshape(num_users,-1)*1.0,nonzero_mean,nonzero_std,log_output=True), user_ids, sequence_lengths, device)"
   ]
  },
  {
   "cell_type": "code",
   "execution_count": 71,
   "metadata": {},
   "outputs": [
    {
     "data": {
      "text/plain": [
       "[<matplotlib.lines.Line2D at 0x7fa42fdfeb20>]"
      ]
     },
     "execution_count": 71,
     "metadata": {},
     "output_type": "execute_result"
    },
    {
     "data": {
      "image/png": "[encoded data removed]",
      "text/plain": [
       "<Figure size 640x480 with 1 Axes>"
      ]
     },
     "metadata": {},
     "output_type": "display_data"
    }
   ],
   "source": [
    "plt.plot(sequence_lengths//(24*7), average_accuracy)"
   ]
  },
  {
   "cell_type": "code",
   "execution_count": 72,
   "metadata": {},
   "outputs": [
    {
     "data": {
      "image/png": "[encoded data removed]",
      "text/plain": [
       "<Figure size 640x480 with 1 Axes>"
      ]
     },
     "metadata": {},
     "output_type": "display_data"
    }
   ],
   "source": [
    "plt.plot(sequence_lengths//(24*7), np.median(individual_losses, axis=0))\n",
    "plt.plot(sequence_lengths//(24*7), np.quantile(individual_losses, 0.25, axis=0), linestyle='--')\n",
    "plt.plot(sequence_lengths//(24*7), np.quantile(individual_losses, 0.75, axis=0), linestyle='--')\n",
    "\n",
    "plt.yscale('log')"
   ]
  }
 ],
 "metadata": {
  "kernelspec": {
   "display_name": "torchenv",
   "language": "python",
   "name": "python3"
  },
  "language_info": {
   "codemirror_mode": {
    "name": "ipython",
    "version": 3
   },
   "file_extension": ".py",
   "mimetype": "text/x-python",
   "name": "python",
   "nbconvert_exporter": "python",
   "pygments_lexer": "ipython3",
   "version": "3.9.15"
  }
 },
 "nbformat": 4,
 "nbformat_minor": 2
}
