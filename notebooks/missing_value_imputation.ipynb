{
 "cells": [
  {
   "cell_type": "code",
   "execution_count": 1,
   "metadata": {},
   "outputs": [],
   "source": [
    "import os, sys\n",
    "os.chdir(os.path.abspath('..'))"
   ]
  },
  {
   "cell_type": "code",
   "execution_count": 2,
   "metadata": {},
   "outputs": [],
   "source": [
    "import json\n",
    "import numpy as np\n",
    "import torch\n",
    "import datetime\n",
    "import matplotlib.pyplot as plt\n",
    "import seaborn as sns\n",
    "sns.set_theme(style=\"whitegrid\", font='serif')\n",
    "sns.set_context(\"paper\", font_scale=2.5)"
   ]
  },
  {
   "cell_type": "code",
   "execution_count": 3,
   "metadata": {},
   "outputs": [],
   "source": [
    "%load_ext autoreload\n",
    "%autoreload 2\n",
    "\n",
    "from src.vae_models import CVAE\n",
    "import src.utils as utils\n",
    "import src.preprocess_lib as preprocess_lib\n",
    "from src.preprocess_lib import *\n",
    "import src.testing_lib as testing_lib"
   ]
  },
  {
   "cell_type": "code",
   "execution_count": 4,
   "metadata": {},
   "outputs": [],
   "source": [
    "config_dir = '/home/kbolat/Python/behavio-temporal-vae/runs/sweep_runs_corrected/sweep_Sep13_07-57-26'\n",
    "config_file = 'config.json'\n",
    "save_dir = 'transfer'\n",
    "\n",
    "with open(os.path.join(config_dir, config_file), 'r') as f: config = json.load(f)"
   ]
  },
  {
   "cell_type": "code",
   "execution_count": 5,
   "metadata": {},
   "outputs": [
    {
     "name": "stdout",
     "output_type": "stream",
     "text": [
      "Dataset: goi4_dp_full_Gipuzkoa\n",
      "Loaded 2522880 consumption profiles from 365 dates and 6912 users.\n",
      "Removing 15 users with all-zero consumption profiles\n",
      "Removing 67 users with any-negative consumption profiles\n",
      "Amputation Parameters...................a=0.85, b=10\n",
      "Mean of enrolments: 28.59\n",
      "Number of Training Points...............1377166\n",
      "Number of Testing Points................459055\n",
      "Number of Validation Points.............459055\n",
      "Number of Missing Points................197674\n",
      "Found a matching user model in data/goi4_dp_full_Gipuzkoa/user_encoding_models/model_1\n"
     ]
    }
   ],
   "source": [
    "trainset, valset, conditioner, user_ids, months, condition_set, X_test, X_missing, num_missing_days, nonzero_mean, nonzero_std = preprocess_lib.prepare_data(config[\"data\"])"
   ]
  },
  {
   "cell_type": "code",
   "execution_count": 6,
   "metadata": {},
   "outputs": [
    {
     "name": "stdout",
     "output_type": "stream",
     "text": [
      "USING SIGMA_LIM!\n",
      "USING SIGMA_LIM!\n"
     ]
    }
   ],
   "source": [
    "# Load model\n",
    "model = CVAE(input_dim=valset.inputs.shape[1], conditioner=conditioner, **config[\"model\"])\n",
    "model.load(config_dir)"
   ]
  },
  {
   "cell_type": "code",
   "execution_count": 7,
   "metadata": {},
   "outputs": [],
   "source": [
    "RANDOM_SEED = 55\n",
    "np.random.seed(RANDOM_SEED)"
   ]
  },
  {
   "cell_type": "code",
   "execution_count": 8,
   "metadata": {},
   "outputs": [],
   "source": [
    "missing_hours = np.random.randint(low=1, high=24, size=X_test.shape[0])"
   ]
  },
  {
   "cell_type": "code",
   "execution_count": 9,
   "metadata": {},
   "outputs": [],
   "source": [
    "available_hours = 24-missing_hours\n",
    "start_hours = np.random.randint(low=0, high=available_hours+1)"
   ]
  },
  {
   "cell_type": "code",
   "execution_count": 10,
   "metadata": {},
   "outputs": [],
   "source": [
    "X_test_amp = X_test.copy()\n",
    "for i in range(X_test.shape[0]): X_test_amp[i,start_hours[i]:start_hours[i]+missing_hours[i]] = np.nan"
   ]
  },
  {
   "cell_type": "code",
   "execution_count": 11,
   "metadata": {},
   "outputs": [
    {
     "data": {
      "text/plain": [
       "<BarContainer object of 24 artists>"
      ]
     },
     "execution_count": 11,
     "metadata": {},
     "output_type": "execute_result"
    },
    {
     "data": {
      "image/png": "[encoded data removed]",
      "text/plain": [
       "<Figure size 640x480 with 1 Axes>"
      ]
     },
     "metadata": {},
     "output_type": "display_data"
    }
   ],
   "source": [
    "plt.bar(np.arange(24), np.sum(np.isnan(X_test_amp), axis=0))"
   ]
  },
  {
   "cell_type": "code",
   "execution_count": 12,
   "metadata": {},
   "outputs": [],
   "source": [
    "@torch.no_grad()\n",
    "def get_conditonal_params(model, param_dict, x_observed, observed_indices):\n",
    "    mu = param_dict[\"mu\"]\n",
    "    Sigma = model.create_covariance_matrix(param_dict)\n",
    "    \n",
    "    unobserved_indices = torch.tensor([i for i in range(model.output_dim) if i not in observed_indices])\n",
    "    \n",
    "    mu_o = mu[:,observed_indices]\n",
    "    mu_u = mu[:,unobserved_indices]\n",
    "\n",
    "    Sigma_oo = Sigma[:,observed_indices][:,:, observed_indices]\n",
    "    Sigma_ou = Sigma[:,observed_indices][:,:, unobserved_indices]\n",
    "    Sigma_uu = Sigma[:,unobserved_indices][:,:, unobserved_indices]\n",
    "\n",
    "    Sigma_oo_inv = torch.linalg.inv(Sigma_oo)\n",
    "    conditional_mean = mu_u + ((x_observed - mu_o)[:,None,...] @ Sigma_oo_inv @ Sigma_ou).squeeze()\n",
    "    conditional_cov = Sigma_uu - Sigma_ou.mT @ Sigma_oo_inv @ Sigma_ou\n",
    "    return conditional_mean, conditional_cov\n",
    "\n",
    "@torch.no_grad()\n",
    "def sample_conditional(model, param_dict, x_observed, observed_indices, num_samples=1):\n",
    "\n",
    "    conditional_mean, conditional_cov = get_conditonal_params(model, param_dict, x_observed, observed_indices)\n",
    "\n",
    "    eps = torch.randn((num_samples, model.output_dim - len(observed_indices)), device=conditional_mean.device)\n",
    "    L_cond = torch.linalg.cholesky(conditional_cov)\n",
    "    cond_samples = conditional_mean + eps @ L_cond.mT  \n",
    "\n",
    "    return cond_samples, conditional_mean, conditional_cov\n",
    "\n",
    "@torch.no_grad()\n",
    "def pseudo_gibbs(model, x, missing_mask, conditioner, condition_set, num_iter=100, device=\"cpu\"):\n",
    "    \n",
    "    observed_indices = torch.where((~missing_mask)[0])[0]\n",
    "    for _ in range(num_iter):\n",
    "        conditions = torch.tensor(conditioner.transform({k: v for k, v in condition_set.items()})).float().to(device)\n",
    "        x_rec, _ = model.forward(x, conditions)\n",
    "\n",
    "        cond_sample, cond_mu, cond_cov = sample_conditional(model.decoder, {k:v[0] for k,v in x_rec[\"params\"].items()}, x[:,observed_indices], observed_indices)\n",
    "        x[missing_mask] = cond_sample\n",
    "\n",
    "    return x, x_rec[\"params\"]\n",
    "\n",
    "@torch.no_grad()\n",
    "def metropolis_within_gibbs(model, x, missing_mask, conditioner, condition_set, num_samples=10, num_iter=100, device=\"cpu\"):\n",
    "    \n",
    "    x_samples = list()\n",
    "\n",
    "    observed_indices = torch.where((~missing_mask)[0])[0]\n",
    "    \n",
    "    conditions = torch.tensor(conditioner.transform({k: v for k, v in condition_set.items()})).float().to(device)\n",
    "    \n",
    "    z = model.encoder.sample(model.encoder(torch.cat((x, conditions), dim=1)))[0]\n",
    "    x_params = model.decoder(torch.cat((z, conditions),dim=1))\n",
    "\n",
    "    num_accepted = 0\n",
    "    for itx in range(num_iter):\n",
    "\n",
    "        if itx%100 == 0: print(f\"Iteration: {itx}\")\n",
    "\n",
    "        z_params = model.encoder(torch.cat((x, conditions), dim=1))\n",
    "\n",
    "        x_params = model.decoder(torch.cat((z, conditions),dim=1))\n",
    "\n",
    "        z_proposal = model.encoder.sample(model.encoder(torch.cat((x, conditions), dim=1)))[0]\n",
    "\n",
    "        x_params_proposal = model.decoder(torch.cat((z_proposal, conditions),dim=1))\n",
    "\n",
    "        loglikelihood_proposal = model.decoder.log_likelihood(x, param_dict=x_params_proposal) + model.encoder.log_likelihood(z_proposal, param_dict=model.prior_params) - model.encoder.log_likelihood(z_proposal, param_dict=z_params)\n",
    "\n",
    "        loglikelihood = model.decoder.log_likelihood(x, param_dict=x_params) + model.encoder.log_likelihood(z, param_dict=model.prior_params) - model.encoder.log_likelihood(z, param_dict=z_params)\n",
    "\n",
    "        log_ratio = loglikelihood_proposal - loglikelihood\n",
    "\n",
    "        rho = torch.minimum(torch.tensor([1]), torch.exp(log_ratio.cpu()))\n",
    "\n",
    "        eps = torch.rand((1,))\n",
    "\n",
    "        # rho_idx = torch.where(eps<rho)[0]\n",
    "        if eps<rho:\n",
    "            z = z_proposal*1.0\n",
    "            num_accepted += 1\n",
    "            cond_sample, cond_mu, cond_cov = sample_conditional(model.decoder, x_params_proposal, x[:,observed_indices], observed_indices)\n",
    "            x[missing_mask] = cond_sample\n",
    "\n",
    "            x_samples.append(x[0].cpu().tolist())\n",
    "\n",
    "            if num_accepted > num_samples: x_samples.pop(0)\n",
    "\n",
    "        else:\n",
    "            cond_sample, cond_mu, cond_cov = sample_conditional(model.decoder, x_params, x[:,observed_indices], observed_indices)\n",
    "            x[missing_mask] = cond_sample\n",
    "\n",
    "        conditions = torch.tensor(conditioner.transform({k: v for k, v in condition_set.items()})).float().to(device)\n",
    "\n",
    "        if (itx+1)%100==0: \n",
    "            # print(f\"Average log-likelihood={loglikelihood.mean().item()}\")\n",
    "            print(f\"Acceptance ratio: %{num_accepted/itx*100}\")\n",
    "            # num_accepted = 0\n",
    "    return np.array(x_samples), x_params, z_params\n",
    "\n",
    "\n",
    "@torch.no_grad()\n",
    "def cvae_imputation(model, data, conditioner, condition_set, num_samples=10, num_iter=100, warmup_steps=10, device=\"cpu\"):\n",
    "    model.to(device)\n",
    "    model.prior_params = {key: value.to(device) for key, value in model.prior_params.items()}\n",
    "\n",
    "    x = data.copy()\n",
    "    x = torch.tensor(x).float().to(device)\n",
    "    missing_mask = torch.isnan(x)\n",
    "    x[missing_mask] = 0.0\n",
    "\n",
    "    if warmup_steps>0:\n",
    "        print(\"Pseudo-Gibbs warm-up is starting...\")\n",
    "        x, _ = pseudo_gibbs(model, x, missing_mask, conditioner, condition_set, num_iter=warmup_steps, device=device)\n",
    "        print(\"Pseudo-Gibbs warm-up has ended.\")\n",
    "\n",
    "    print(\"Metropolis-within-Gibbs is starting...\")\n",
    "    x_samples, x_rec, z_rec = metropolis_within_gibbs(model, x, missing_mask, conditioner, condition_set, num_samples=num_samples, num_iter=num_iter, device=device)\n",
    "    print(\"Metropolis-within-Gibbs has ended.\")\n",
    "\n",
    "    model.to(\"cpu\")\n",
    "    model.prior_params = {key: value.to(\"cpu\") for key, value in model.prior_params.items()}\n",
    "\n",
    "    return x_samples, {key: value.to(\"cpu\") for key, value in x_rec.items()}, {key: value.to(\"cpu\") for key, value in z_rec.items()}\n",
    "\n"
   ]
  },
  {
   "cell_type": "code",
   "execution_count": 13,
   "metadata": {},
   "outputs": [],
   "source": [
    "data_idx = np.arange(420,421)"
   ]
  },
  {
   "cell_type": "code",
   "execution_count": 58,
   "metadata": {},
   "outputs": [
    {
     "name": "stdout",
     "output_type": "stream",
     "text": [
      "Pseudo-Gibbs warm-up is starting...\n",
      "Pseudo-Gibbs warm-up has ended.\n",
      "Metropolis-within-Gibbs is starting...\n",
      "Iteration: 0\n",
      "Acceptance ratio: %45.45454545454545\n",
      "Iteration: 100\n",
      "Acceptance ratio: %55.778894472361806\n",
      "Iteration: 200\n",
      "Acceptance ratio: %53.84615384615385\n",
      "Iteration: 300\n",
      "Acceptance ratio: %55.13784461152882\n",
      "Iteration: 400\n",
      "Acceptance ratio: %56.51302605210421\n",
      "Iteration: 500\n",
      "Acceptance ratio: %56.42737896494157\n",
      "Iteration: 600\n",
      "Acceptance ratio: %55.65092989985694\n",
      "Iteration: 700\n",
      "Acceptance ratio: %57.82227784730913\n",
      "Iteration: 800\n",
      "Acceptance ratio: %56.84093437152391\n",
      "Iteration: 900\n",
      "Acceptance ratio: %56.35635635635635\n",
      "Iteration: 1000\n",
      "Acceptance ratio: %56.86988171064604\n",
      "Iteration: 1100\n",
      "Acceptance ratio: %56.63052543786489\n",
      "Iteration: 1200\n",
      "Acceptance ratio: %56.96689761354888\n",
      "Iteration: 1300\n",
      "Acceptance ratio: %57.11222301644031\n",
      "Iteration: 1400\n",
      "Acceptance ratio: %57.238158772515014\n",
      "Iteration: 1500\n",
      "Acceptance ratio: %57.160725453408375\n",
      "Iteration: 1600\n",
      "Acceptance ratio: %57.68098881695115\n",
      "Iteration: 1700\n",
      "Acceptance ratio: %57.865480822679274\n",
      "Iteration: 1800\n",
      "Acceptance ratio: %57.92522380200106\n",
      "Iteration: 1900\n",
      "Acceptance ratio: %58.32916458229115\n",
      "Iteration: 2000\n",
      "Acceptance ratio: %58.027632205812296\n",
      "Iteration: 2100\n",
      "Acceptance ratio: %58.026375625284224\n",
      "Iteration: 2200\n",
      "Acceptance ratio: %57.63375380600261\n",
      "Iteration: 2300\n",
      "Acceptance ratio: %57.690704460191746\n",
      "Iteration: 2400\n",
      "Acceptance ratio: %57.82312925170068\n",
      "Iteration: 2500\n",
      "Acceptance ratio: %57.1758368603309\n",
      "Iteration: 2600\n",
      "Acceptance ratio: %57.539829566506114\n",
      "Iteration: 2700\n",
      "Acceptance ratio: %57.270453733476245\n",
      "Iteration: 2800\n",
      "Acceptance ratio: %57.36460848568472\n",
      "Iteration: 2900\n",
      "Acceptance ratio: %57.51917305768589\n",
      "Iteration: 3000\n",
      "Acceptance ratio: %57.53468860922878\n",
      "Iteration: 3100\n",
      "Acceptance ratio: %57.736792747733666\n",
      "Iteration: 3200\n",
      "Acceptance ratio: %58.22976659593816\n",
      "Iteration: 3300\n",
      "Acceptance ratio: %58.134745513386285\n",
      "Iteration: 3400\n",
      "Acceptance ratio: %58.18805372963703\n",
      "Iteration: 3500\n",
      "Acceptance ratio: %58.210614059460966\n",
      "Iteration: 3600\n",
      "Acceptance ratio: %58.36712625033793\n",
      "Iteration: 3700\n",
      "Acceptance ratio: %58.33113977362464\n",
      "Iteration: 3800\n",
      "Acceptance ratio: %58.52782764811491\n",
      "Iteration: 3900\n",
      "Acceptance ratio: %58.08952238059515\n",
      "Iteration: 4000\n",
      "Acceptance ratio: %58.03854598682605\n",
      "Iteration: 4100\n",
      "Acceptance ratio: %58.03762800666825\n",
      "Iteration: 4200\n",
      "Acceptance ratio: %57.966969062572694\n",
      "Iteration: 4300\n",
      "Acceptance ratio: %58.126847010684244\n",
      "Iteration: 4400\n",
      "Acceptance ratio: %58.12402756168037\n",
      "Iteration: 4500\n",
      "Acceptance ratio: %58.208306153511636\n",
      "Iteration: 4600\n",
      "Acceptance ratio: %58.07618642264312\n",
      "Iteration: 4700\n",
      "Acceptance ratio: %58.032923525734525\n",
      "Iteration: 4800\n",
      "Acceptance ratio: %58.07307613798734\n",
      "Iteration: 4900\n",
      "Acceptance ratio: %57.97159431886377\n",
      "Metropolis-within-Gibbs has ended.\n"
     ]
    }
   ],
   "source": [
    "X_test_imp, x_params, z_params = cvae_imputation(model.eval(), X_test_amp[data_idx], conditioner=conditioner, condition_set={k: v[data_idx] for k, v in condition_set[\"test\"].items()}, num_samples=100, num_iter=5000, warmup_steps=1000, device=\"cuda:1\")"
   ]
  },
  {
   "cell_type": "code",
   "execution_count": 59,
   "metadata": {},
   "outputs": [],
   "source": [
    "observed_indices = np.where(~np.isnan(X_test_amp[data_idx])[0])[0].tolist()\n",
    "unobserved_indices = [i for i in range(model.decoder.output_dim) if i not in observed_indices]"
   ]
  },
  {
   "cell_type": "code",
   "execution_count": 60,
   "metadata": {},
   "outputs": [],
   "source": [
    "cond_median = np.median(X_test_imp, axis=0)\n",
    "cond_upper_quartile = np.percentile(X_test_imp, 75, axis=0)\n",
    "cond_lower_quartile = np.percentile(X_test_imp, 25, axis=0)"
   ]
  },
  {
   "cell_type": "code",
   "execution_count": 61,
   "metadata": {},
   "outputs": [],
   "source": [
    "mvn_mu = np.mean(X_test_imp[:,unobserved_indices], axis=0)\n",
    "mvn_cov = np.cov(X_test_imp[:,unobserved_indices], rowvar=0)"
   ]
  },
  {
   "cell_type": "code",
   "execution_count": 66,
   "metadata": {},
   "outputs": [
    {
     "data": {
      "image/png": "[encoded data removed]",
      "text/plain": [
       "<Figure size 640x480 with 1 Axes>"
      ]
     },
     "metadata": {},
     "output_type": "display_data"
    }
   ],
   "source": [
    "# plt.plot(unobserved_indices, X_test_imp[:-1, unobserved_indices].T, lw=2, alpha=0.05, label=\"Imputation\", color=\"tab:orange\")\n",
    "plt.plot(X_test[data_idx].T, lw=3, label=\"Ground truth\")\n",
    "plt.plot(unobserved_indices, mvn_mu, lw=3, color=\"tab:red\")\n",
    "plt.fill_between(unobserved_indices, mvn_mu-2*np.diag(mvn_cov), mvn_mu+2*np.diag(mvn_cov), alpha=0.2, color=\"tab:red\")\n",
    "plt.plot(unobserved_indices, cond_median[unobserved_indices], lw=3, color=\"tab:green\")\n",
    "plt.fill_between(unobserved_indices, cond_lower_quartile[unobserved_indices], cond_upper_quartile[unobserved_indices], alpha=0.2, color=\"tab:green\")\n",
    "# plt.plot(np.where(np.isnan(X_test_amp[data_idx]))[1], cond_mu[0], lw=2, label=\"Imputation\")\n",
    "# plt.fill_between(np.where(np.isnan(X_test_amp[data_idx]))[1], cond_mu[0]-2*conditional_marg_sigma, cond_mu[0]+2*conditional_marg_sigma, alpha=0.2)\n",
    "plt.plot(np.where(np.isnan(X_test_amp[data_idx]))[1], X_test_imp[0,unobserved_indices].T, lw=2, label=\"Imputation\", alpha=0.9)\n",
    "\n",
    "# plt.plot( x_params[\"mu\"][0], lw=2, label=\"Imputation\")\n",
    "plt.show()"
   ]
  },
  {
   "cell_type": "code",
   "execution_count": 63,
   "metadata": {},
   "outputs": [
    {
     "data": {
      "text/plain": [
       "HZResults(hz=1.0069437589387098, pval=0.00533934607864983, normal=False)"
      ]
     },
     "execution_count": 63,
     "metadata": {},
     "output_type": "execute_result"
    }
   ],
   "source": [
    "#normality test\n",
    "import pingouin as pg\n",
    "pg.multivariate_normality(X_test_imp[:,unobserved_indices], alpha=0.05)"
   ]
  },
  {
   "cell_type": "code",
   "execution_count": 64,
   "metadata": {},
   "outputs": [
    {
     "data": {
      "text/plain": [
       "<matplotlib.colorbar.Colorbar at 0x7fb8f97b7610>"
      ]
     },
     "execution_count": 64,
     "metadata": {},
     "output_type": "execute_result"
    },
    {
     "data": {
      "image/png": "[encoded data removed]",
      "text/plain": [
       "<Figure size 640x480 with 2 Axes>"
      ]
     },
     "metadata": {},
     "output_type": "display_data"
    }
   ],
   "source": [
    "plt.imshow(mvn_cov, cmap=\"viridis\")\n",
    "plt.colorbar()"
   ]
  },
  {
   "cell_type": "code",
   "execution_count": 90,
   "metadata": {},
   "outputs": [],
   "source": [
    "x_rec, _ = model.reconstruct(torch.tensor(X_test[data_idx]).float(), torch.tensor(conditioner.transform({k: v[data_idx] for k, v in condition_set[\"test\"].items()})).float())"
   ]
  },
  {
   "cell_type": "code",
   "execution_count": 91,
   "metadata": {},
   "outputs": [
    {
     "data": {
      "text/plain": [
       "<matplotlib.colorbar.Colorbar at 0x7f378997f2e0>"
      ]
     },
     "execution_count": 91,
     "metadata": {},
     "output_type": "execute_result"
    },
    {
     "data": {
      "image/png": "[encoded data removed]",
      "text/plain": [
       "<Figure size 640x480 with 2 Axes>"
      ]
     },
     "metadata": {},
     "output_type": "display_data"
    }
   ],
   "source": [
    "plt.imshow(model.decoder.create_covariance_matrix(x_params)[0].detach())\n",
    "plt.colorbar()"
   ]
  },
  {
   "cell_type": "code",
   "execution_count": 73,
   "metadata": {},
   "outputs": [
    {
     "data": {
      "text/plain": [
       "<matplotlib.image.AxesImage at 0x7f3789f551c0>"
      ]
     },
     "execution_count": 73,
     "metadata": {},
     "output_type": "execute_result"
    },
    {
     "data": {
      "image/png": "[encoded data removed]",
      "text/plain": [
       "<Figure size 640x480 with 1 Axes>"
      ]
     },
     "metadata": {},
     "output_type": "display_data"
    }
   ],
   "source": [
    "plt.imshow(cond_cov[0])"
   ]
  },
  {
   "cell_type": "code",
   "execution_count": 29,
   "metadata": {},
   "outputs": [],
   "source": [
    "from sklearn.experimental import enable_iterative_imputer\n",
    "from sklearn.impute import IterativeImputer"
   ]
  },
  {
   "cell_type": "code",
   "execution_count": 43,
   "metadata": {},
   "outputs": [],
   "source": [
    "imputer = IterativeImputer(random_state=RANDOM_SEED, verbose=True)"
   ]
  },
  {
   "cell_type": "code",
   "execution_count": 41,
   "metadata": {},
   "outputs": [
    {
     "data": {
      "text/plain": [
       "(1377166, 24)"
      ]
     },
     "execution_count": 41,
     "metadata": {},
     "output_type": "execute_result"
    }
   ],
   "source": [
    "X_train = trainset.inputs\n",
    "X_train.shape"
   ]
  },
  {
   "cell_type": "code",
   "execution_count": 44,
   "metadata": {},
   "outputs": [
    {
     "name": "stdout",
     "output_type": "stream",
     "text": [
      "[IterativeImputer] Completing matrix with shape (1836221, 24)\n",
      "[IterativeImputer] Change: 19.64632811735178, scaled tolerance: 0.005610138716376447 \n",
      "[IterativeImputer] Change: 9.43672140457743, scaled tolerance: 0.005610138716376447 \n",
      "[IterativeImputer] Change: 6.479051604364493, scaled tolerance: 0.005610138716376447 \n",
      "[IterativeImputer] Change: 4.9972395110187025, scaled tolerance: 0.005610138716376447 \n",
      "[IterativeImputer] Change: 4.119554789099921, scaled tolerance: 0.005610138716376447 \n",
      "[IterativeImputer] Change: 3.4227325236295294, scaled tolerance: 0.005610138716376447 \n",
      "[IterativeImputer] Change: 2.967913571122221, scaled tolerance: 0.005610138716376447 \n",
      "[IterativeImputer] Change: 2.64452409719331, scaled tolerance: 0.005610138716376447 \n",
      "[IterativeImputer] Change: 2.358013223997091, scaled tolerance: 0.005610138716376447 \n",
      "[IterativeImputer] Change: 2.103819058045188, scaled tolerance: 0.005610138716376447 \n"
     ]
    },
    {
     "name": "stderr",
     "output_type": "stream",
     "text": [
      "/home/kbolat/.conda/envs/torchenv/lib/python3.9/site-packages/sklearn/impute/_iterative.py:801: ConvergenceWarning: [IterativeImputer] Early stopping criterion not reached.\n",
      "  warnings.warn(\n"
     ]
    },
    {
     "data": {
      "text/html": [
       "<style>#sk-container-id-1 {\n",
       "  /* Definition of color scheme common for light and dark mode */\n",
       "  --sklearn-color-text: black;\n",
       "  --sklearn-color-line: gray;\n",
       "  /* Definition of color scheme for unfitted estimators */\n",
       "  --sklearn-color-unfitted-level-0: #fff5e6;\n",
       "  --sklearn-color-unfitted-level-1: #f6e4d2;\n",
       "  --sklearn-color-unfitted-level-2: #ffe0b3;\n",
       "  --sklearn-color-unfitted-level-3: chocolate;\n",
       "  /* Definition of color scheme for fitted estimators */\n",
       "  --sklearn-color-fitted-level-0: #f0f8ff;\n",
       "  --sklearn-color-fitted-level-1: #d4ebff;\n",
       "  --sklearn-color-fitted-level-2: #b3dbfd;\n",
       "  --sklearn-color-fitted-level-3: cornflowerblue;\n",
       "\n",
       "  /* Specific color for light theme */\n",
       "  --sklearn-color-text-on-default-background: var(--sg-text-color, var(--theme-code-foreground, var(--jp-content-font-color1, black)));\n",
       "  --sklearn-color-background: var(--sg-background-color, var(--theme-background, var(--jp-layout-color0, white)));\n",
       "  --sklearn-color-border-box: var(--sg-text-color, var(--theme-code-foreground, var(--jp-content-font-color1, black)));\n",
       "  --sklearn-color-icon: #696969;\n",
       "\n",
       "  @media (prefers-color-scheme: dark) {\n",
       "    /* Redefinition of color scheme for dark theme */\n",
       "    --sklearn-color-text-on-default-background: var(--sg-text-color, var(--theme-code-foreground, var(--jp-content-font-color1, white)));\n",
       "    --sklearn-color-background: var(--sg-background-color, var(--theme-background, var(--jp-layout-color0, #111)));\n",
       "    --sklearn-color-border-box: var(--sg-text-color, var(--theme-code-foreground, var(--jp-content-font-color1, white)));\n",
       "    --sklearn-color-icon: #878787;\n",
       "  }\n",
       "}\n",
       "\n",
       "#sk-container-id-1 {\n",
       "  color: var(--sklearn-color-text);\n",
       "}\n",
       "\n",
       "#sk-container-id-1 pre {\n",
       "  padding: 0;\n",
       "}\n",
       "\n",
       "#sk-container-id-1 input.sk-hidden--visually {\n",
       "  border: 0;\n",
       "  clip: rect(1px 1px 1px 1px);\n",
       "  clip: rect(1px, 1px, 1px, 1px);\n",
       "  height: 1px;\n",
       "  margin: -1px;\n",
       "  overflow: hidden;\n",
       "  padding: 0;\n",
       "  position: absolute;\n",
       "  width: 1px;\n",
       "}\n",
       "\n",
       "#sk-container-id-1 div.sk-dashed-wrapped {\n",
       "  border: 1px dashed var(--sklearn-color-line);\n",
       "  margin: 0 0.4em 0.5em 0.4em;\n",
       "  box-sizing: border-box;\n",
       "  padding-bottom: 0.4em;\n",
       "  background-color: var(--sklearn-color-background);\n",
       "}\n",
       "\n",
       "#sk-container-id-1 div.sk-container {\n",
       "  /* jupyter's `normalize.less` sets `[hidden] { display: none; }`\n",
       "     but bootstrap.min.css set `[hidden] { display: none !important; }`\n",
       "     so we also need the `!important` here to be able to override the\n",
       "     default hidden behavior on the sphinx rendered scikit-learn.org.\n",
       "     See: https://github.com/scikit-learn/scikit-learn/issues/21755 */\n",
       "  display: inline-block !important;\n",
       "  position: relative;\n",
       "}\n",
       "\n",
       "#sk-container-id-1 div.sk-text-repr-fallback {\n",
       "  display: none;\n",
       "}\n",
       "\n",
       "div.sk-parallel-item,\n",
       "div.sk-serial,\n",
       "div.sk-item {\n",
       "  /* draw centered vertical line to link estimators */\n",
       "  background-image: linear-gradient(var(--sklearn-color-text-on-default-background), var(--sklearn-color-text-on-default-background));\n",
       "  background-size: 2px 100%;\n",
       "  background-repeat: no-repeat;\n",
       "  background-position: center center;\n",
       "}\n",
       "\n",
       "/* Parallel-specific style estimator block */\n",
       "\n",
       "#sk-container-id-1 div.sk-parallel-item::after {\n",
       "  content: \"\";\n",
       "  width: 100%;\n",
       "  border-bottom: 2px solid var(--sklearn-color-text-on-default-background);\n",
       "  flex-grow: 1;\n",
       "}\n",
       "\n",
       "#sk-container-id-1 div.sk-parallel {\n",
       "  display: flex;\n",
       "  align-items: stretch;\n",
       "  justify-content: center;\n",
       "  background-color: var(--sklearn-color-background);\n",
       "  position: relative;\n",
       "}\n",
       "\n",
       "#sk-container-id-1 div.sk-parallel-item {\n",
       "  display: flex;\n",
       "  flex-direction: column;\n",
       "}\n",
       "\n",
       "#sk-container-id-1 div.sk-parallel-item:first-child::after {\n",
       "  align-self: flex-end;\n",
       "  width: 50%;\n",
       "}\n",
       "\n",
       "#sk-container-id-1 div.sk-parallel-item:last-child::after {\n",
       "  align-self: flex-start;\n",
       "  width: 50%;\n",
       "}\n",
       "\n",
       "#sk-container-id-1 div.sk-parallel-item:only-child::after {\n",
       "  width: 0;\n",
       "}\n",
       "\n",
       "/* Serial-specific style estimator block */\n",
       "\n",
       "#sk-container-id-1 div.sk-serial {\n",
       "  display: flex;\n",
       "  flex-direction: column;\n",
       "  align-items: center;\n",
       "  background-color: var(--sklearn-color-background);\n",
       "  padding-right: 1em;\n",
       "  padding-left: 1em;\n",
       "}\n",
       "\n",
       "\n",
       "/* Toggleable style: style used for estimator/Pipeline/ColumnTransformer box that is\n",
       "clickable and can be expanded/collapsed.\n",
       "- Pipeline and ColumnTransformer use this feature and define the default style\n",
       "- Estimators will overwrite some part of the style using the `sk-estimator` class\n",
       "*/\n",
       "\n",
       "/* Pipeline and ColumnTransformer style (default) */\n",
       "\n",
       "#sk-container-id-1 div.sk-toggleable {\n",
       "  /* Default theme specific background. It is overwritten whether we have a\n",
       "  specific estimator or a Pipeline/ColumnTransformer */\n",
       "  background-color: var(--sklearn-color-background);\n",
       "}\n",
       "\n",
       "/* Toggleable label */\n",
       "#sk-container-id-1 label.sk-toggleable__label {\n",
       "  cursor: pointer;\n",
       "  display: block;\n",
       "  width: 100%;\n",
       "  margin-bottom: 0;\n",
       "  padding: 0.5em;\n",
       "  box-sizing: border-box;\n",
       "  text-align: center;\n",
       "}\n",
       "\n",
       "#sk-container-id-1 label.sk-toggleable__label-arrow:before {\n",
       "  /* Arrow on the left of the label */\n",
       "  content: \"▸\";\n",
       "  float: left;\n",
       "  margin-right: 0.25em;\n",
       "  color: var(--sklearn-color-icon);\n",
       "}\n",
       "\n",
       "#sk-container-id-1 label.sk-toggleable__label-arrow:hover:before {\n",
       "  color: var(--sklearn-color-text);\n",
       "}\n",
       "\n",
       "/* Toggleable content - dropdown */\n",
       "\n",
       "#sk-container-id-1 div.sk-toggleable__content {\n",
       "  max-height: 0;\n",
       "  max-width: 0;\n",
       "  overflow: hidden;\n",
       "  text-align: left;\n",
       "  /* unfitted */\n",
       "  background-color: var(--sklearn-color-unfitted-level-0);\n",
       "}\n",
       "\n",
       "#sk-container-id-1 div.sk-toggleable__content.fitted {\n",
       "  /* fitted */\n",
       "  background-color: var(--sklearn-color-fitted-level-0);\n",
       "}\n",
       "\n",
       "#sk-container-id-1 div.sk-toggleable__content pre {\n",
       "  margin: 0.2em;\n",
       "  border-radius: 0.25em;\n",
       "  color: var(--sklearn-color-text);\n",
       "  /* unfitted */\n",
       "  background-color: var(--sklearn-color-unfitted-level-0);\n",
       "}\n",
       "\n",
       "#sk-container-id-1 div.sk-toggleable__content.fitted pre {\n",
       "  /* unfitted */\n",
       "  background-color: var(--sklearn-color-fitted-level-0);\n",
       "}\n",
       "\n",
       "#sk-container-id-1 input.sk-toggleable__control:checked~div.sk-toggleable__content {\n",
       "  /* Expand drop-down */\n",
       "  max-height: 200px;\n",
       "  max-width: 100%;\n",
       "  overflow: auto;\n",
       "}\n",
       "\n",
       "#sk-container-id-1 input.sk-toggleable__control:checked~label.sk-toggleable__label-arrow:before {\n",
       "  content: \"▾\";\n",
       "}\n",
       "\n",
       "/* Pipeline/ColumnTransformer-specific style */\n",
       "\n",
       "#sk-container-id-1 div.sk-label input.sk-toggleable__control:checked~label.sk-toggleable__label {\n",
       "  color: var(--sklearn-color-text);\n",
       "  background-color: var(--sklearn-color-unfitted-level-2);\n",
       "}\n",
       "\n",
       "#sk-container-id-1 div.sk-label.fitted input.sk-toggleable__control:checked~label.sk-toggleable__label {\n",
       "  background-color: var(--sklearn-color-fitted-level-2);\n",
       "}\n",
       "\n",
       "/* Estimator-specific style */\n",
       "\n",
       "/* Colorize estimator box */\n",
       "#sk-container-id-1 div.sk-estimator input.sk-toggleable__control:checked~label.sk-toggleable__label {\n",
       "  /* unfitted */\n",
       "  background-color: var(--sklearn-color-unfitted-level-2);\n",
       "}\n",
       "\n",
       "#sk-container-id-1 div.sk-estimator.fitted input.sk-toggleable__control:checked~label.sk-toggleable__label {\n",
       "  /* fitted */\n",
       "  background-color: var(--sklearn-color-fitted-level-2);\n",
       "}\n",
       "\n",
       "#sk-container-id-1 div.sk-label label.sk-toggleable__label,\n",
       "#sk-container-id-1 div.sk-label label {\n",
       "  /* The background is the default theme color */\n",
       "  color: var(--sklearn-color-text-on-default-background);\n",
       "}\n",
       "\n",
       "/* On hover, darken the color of the background */\n",
       "#sk-container-id-1 div.sk-label:hover label.sk-toggleable__label {\n",
       "  color: var(--sklearn-color-text);\n",
       "  background-color: var(--sklearn-color-unfitted-level-2);\n",
       "}\n",
       "\n",
       "/* Label box, darken color on hover, fitted */\n",
       "#sk-container-id-1 div.sk-label.fitted:hover label.sk-toggleable__label.fitted {\n",
       "  color: var(--sklearn-color-text);\n",
       "  background-color: var(--sklearn-color-fitted-level-2);\n",
       "}\n",
       "\n",
       "/* Estimator label */\n",
       "\n",
       "#sk-container-id-1 div.sk-label label {\n",
       "  font-family: monospace;\n",
       "  font-weight: bold;\n",
       "  display: inline-block;\n",
       "  line-height: 1.2em;\n",
       "}\n",
       "\n",
       "#sk-container-id-1 div.sk-label-container {\n",
       "  text-align: center;\n",
       "}\n",
       "\n",
       "/* Estimator-specific */\n",
       "#sk-container-id-1 div.sk-estimator {\n",
       "  font-family: monospace;\n",
       "  border: 1px dotted var(--sklearn-color-border-box);\n",
       "  border-radius: 0.25em;\n",
       "  box-sizing: border-box;\n",
       "  margin-bottom: 0.5em;\n",
       "  /* unfitted */\n",
       "  background-color: var(--sklearn-color-unfitted-level-0);\n",
       "}\n",
       "\n",
       "#sk-container-id-1 div.sk-estimator.fitted {\n",
       "  /* fitted */\n",
       "  background-color: var(--sklearn-color-fitted-level-0);\n",
       "}\n",
       "\n",
       "/* on hover */\n",
       "#sk-container-id-1 div.sk-estimator:hover {\n",
       "  /* unfitted */\n",
       "  background-color: var(--sklearn-color-unfitted-level-2);\n",
       "}\n",
       "\n",
       "#sk-container-id-1 div.sk-estimator.fitted:hover {\n",
       "  /* fitted */\n",
       "  background-color: var(--sklearn-color-fitted-level-2);\n",
       "}\n",
       "\n",
       "/* Specification for estimator info (e.g. \"i\" and \"?\") */\n",
       "\n",
       "/* Common style for \"i\" and \"?\" */\n",
       "\n",
       ".sk-estimator-doc-link,\n",
       "a:link.sk-estimator-doc-link,\n",
       "a:visited.sk-estimator-doc-link {\n",
       "  float: right;\n",
       "  font-size: smaller;\n",
       "  line-height: 1em;\n",
       "  font-family: monospace;\n",
       "  background-color: var(--sklearn-color-background);\n",
       "  border-radius: 1em;\n",
       "  height: 1em;\n",
       "  width: 1em;\n",
       "  text-decoration: none !important;\n",
       "  margin-left: 1ex;\n",
       "  /* unfitted */\n",
       "  border: var(--sklearn-color-unfitted-level-1) 1pt solid;\n",
       "  color: var(--sklearn-color-unfitted-level-1);\n",
       "}\n",
       "\n",
       ".sk-estimator-doc-link.fitted,\n",
       "a:link.sk-estimator-doc-link.fitted,\n",
       "a:visited.sk-estimator-doc-link.fitted {\n",
       "  /* fitted */\n",
       "  border: var(--sklearn-color-fitted-level-1) 1pt solid;\n",
       "  color: var(--sklearn-color-fitted-level-1);\n",
       "}\n",
       "\n",
       "/* On hover */\n",
       "div.sk-estimator:hover .sk-estimator-doc-link:hover,\n",
       ".sk-estimator-doc-link:hover,\n",
       "div.sk-label-container:hover .sk-estimator-doc-link:hover,\n",
       ".sk-estimator-doc-link:hover {\n",
       "  /* unfitted */\n",
       "  background-color: var(--sklearn-color-unfitted-level-3);\n",
       "  color: var(--sklearn-color-background);\n",
       "  text-decoration: none;\n",
       "}\n",
       "\n",
       "div.sk-estimator.fitted:hover .sk-estimator-doc-link.fitted:hover,\n",
       ".sk-estimator-doc-link.fitted:hover,\n",
       "div.sk-label-container:hover .sk-estimator-doc-link.fitted:hover,\n",
       ".sk-estimator-doc-link.fitted:hover {\n",
       "  /* fitted */\n",
       "  background-color: var(--sklearn-color-fitted-level-3);\n",
       "  color: var(--sklearn-color-background);\n",
       "  text-decoration: none;\n",
       "}\n",
       "\n",
       "/* Span, style for the box shown on hovering the info icon */\n",
       ".sk-estimator-doc-link span {\n",
       "  display: none;\n",
       "  z-index: 9999;\n",
       "  position: relative;\n",
       "  font-weight: normal;\n",
       "  right: .2ex;\n",
       "  padding: .5ex;\n",
       "  margin: .5ex;\n",
       "  width: min-content;\n",
       "  min-width: 20ex;\n",
       "  max-width: 50ex;\n",
       "  color: var(--sklearn-color-text);\n",
       "  box-shadow: 2pt 2pt 4pt #999;\n",
       "  /* unfitted */\n",
       "  background: var(--sklearn-color-unfitted-level-0);\n",
       "  border: .5pt solid var(--sklearn-color-unfitted-level-3);\n",
       "}\n",
       "\n",
       ".sk-estimator-doc-link.fitted span {\n",
       "  /* fitted */\n",
       "  background: var(--sklearn-color-fitted-level-0);\n",
       "  border: var(--sklearn-color-fitted-level-3);\n",
       "}\n",
       "\n",
       ".sk-estimator-doc-link:hover span {\n",
       "  display: block;\n",
       "}\n",
       "\n",
       "/* \"?\"-specific style due to the `<a>` HTML tag */\n",
       "\n",
       "#sk-container-id-1 a.estimator_doc_link {\n",
       "  float: right;\n",
       "  font-size: 1rem;\n",
       "  line-height: 1em;\n",
       "  font-family: monospace;\n",
       "  background-color: var(--sklearn-color-background);\n",
       "  border-radius: 1rem;\n",
       "  height: 1rem;\n",
       "  width: 1rem;\n",
       "  text-decoration: none;\n",
       "  /* unfitted */\n",
       "  color: var(--sklearn-color-unfitted-level-1);\n",
       "  border: var(--sklearn-color-unfitted-level-1) 1pt solid;\n",
       "}\n",
       "\n",
       "#sk-container-id-1 a.estimator_doc_link.fitted {\n",
       "  /* fitted */\n",
       "  border: var(--sklearn-color-fitted-level-1) 1pt solid;\n",
       "  color: var(--sklearn-color-fitted-level-1);\n",
       "}\n",
       "\n",
       "/* On hover */\n",
       "#sk-container-id-1 a.estimator_doc_link:hover {\n",
       "  /* unfitted */\n",
       "  background-color: var(--sklearn-color-unfitted-level-3);\n",
       "  color: var(--sklearn-color-background);\n",
       "  text-decoration: none;\n",
       "}\n",
       "\n",
       "#sk-container-id-1 a.estimator_doc_link.fitted:hover {\n",
       "  /* fitted */\n",
       "  background-color: var(--sklearn-color-fitted-level-3);\n",
       "}\n",
       "</style><div id=\"sk-container-id-1\" class=\"sk-top-container\"><div class=\"sk-text-repr-fallback\"><pre>IterativeImputer(random_state=2112, verbose=True)</pre><b>In a Jupyter environment, please rerun this cell to show the HTML representation or trust the notebook. <br />On GitHub, the HTML representation is unable to render, please try loading this page with nbviewer.org.</b></div><div class=\"sk-container\" hidden><div class=\"sk-item\"><div class=\"sk-estimator fitted sk-toggleable\"><input class=\"sk-toggleable__control sk-hidden--visually\" id=\"sk-estimator-id-1\" type=\"checkbox\" checked><label for=\"sk-estimator-id-1\" class=\"sk-toggleable__label fitted sk-toggleable__label-arrow fitted\">&nbsp;&nbsp;IterativeImputer<a class=\"sk-estimator-doc-link fitted\" rel=\"noreferrer\" target=\"_blank\" href=\"https://scikit-learn.org/1.4/modules/generated/sklearn.impute.IterativeImputer.html\">?<span>Documentation for IterativeImputer</span></a><span class=\"sk-estimator-doc-link fitted\">i<span>Fitted</span></span></label><div class=\"sk-toggleable__content fitted\"><pre>IterativeImputer(random_state=2112, verbose=True)</pre></div> </div></div></div></div>"
      ],
      "text/plain": [
       "IterativeImputer(random_state=2112, verbose=True)"
      ]
     },
     "execution_count": 44,
     "metadata": {},
     "output_type": "execute_result"
    }
   ],
   "source": [
    "imputer.fit(np.concatenate((X_train, X_test_amp)))"
   ]
  },
  {
   "cell_type": "code",
   "execution_count": 77,
   "metadata": {},
   "outputs": [
    {
     "name": "stdout",
     "output_type": "stream",
     "text": [
      "[IterativeImputer] Completing matrix with shape (1, 24)\n"
     ]
    },
    {
     "data": {
      "text/plain": [
       "array([[1.89224602, 2.15006027, 2.2484636 , 2.28853307, 2.16586513,\n",
       "        2.14283909, 2.10439965, 2.04427232, 2.0395811 , 2.24948194,\n",
       "        2.45372076, 2.49164174, 2.52472281, 2.54446121, 2.58474445,\n",
       "        2.7963431 , 3.11060457, 2.52594856, 2.57478987, 2.2627047 ,\n",
       "        1.84476711, 1.73149431, 1.63608321, 1.80202559]])"
      ]
     },
     "execution_count": 77,
     "metadata": {},
     "output_type": "execute_result"
    }
   ],
   "source": [
    "imputer.transform(X_test_amp[data_idx])"
   ]
  },
  {
   "cell_type": "code",
   "execution_count": 78,
   "metadata": {},
   "outputs": [
    {
     "name": "stdout",
     "output_type": "stream",
     "text": [
      "[IterativeImputer] Completing matrix with shape (1, 24)\n"
     ]
    },
    {
     "data": {
      "text/plain": [
       "[<matplotlib.lines.Line2D at 0x7f38a3426190>]"
      ]
     },
     "execution_count": 78,
     "metadata": {},
     "output_type": "execute_result"
    },
    {
     "data": {
      "image/png": "[encoded data removed]",
      "text/plain": [
       "<Figure size 640x480 with 1 Axes>"
      ]
     },
     "metadata": {},
     "output_type": "display_data"
    }
   ],
   "source": [
    "plt.plot(X_test[data_idx].T, lw=3, label=\"Ground truth\")\n",
    "plt.plot(np.where(np.isnan(X_test_amp[data_idx]))[1], (imputer.transform(X_test_amp[data_idx])[np.isnan(X_test_amp[data_idx])]), lw=2, label=\"Imputation\")"
   ]
  }
 ],
 "metadata": {
  "kernelspec": {
   "display_name": "torchenv",
   "language": "python",
   "name": "python3"
  },
  "language_info": {
   "codemirror_mode": {
    "name": "ipython",
    "version": 3
   },
   "file_extension": ".py",
   "mimetype": "text/x-python",
   "name": "python",
   "nbconvert_exporter": "python",
   "pygments_lexer": "ipython3",
   "version": "3.9.15"
  }
 },
 "nbformat": 4,
 "nbformat_minor": 2
}
